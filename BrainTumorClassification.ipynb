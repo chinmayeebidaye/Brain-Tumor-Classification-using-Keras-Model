{
 "cells": [
  {
   "cell_type": "code",
   "execution_count": 1,
   "id": "9c13d032",
   "metadata": {},
   "outputs": [],
   "source": [
    "import numpy as np # linear algebra\n",
    "import pandas as pd # data processing, CSV file I/O (e.g. pd.read_csv)\n",
    "import os"
   ]
  },
  {
   "cell_type": "code",
   "execution_count": 2,
   "id": "daa4db78",
   "metadata": {},
   "outputs": [],
   "source": [
    "import keras\n",
    "from keras.models import Sequential\n",
    "from keras.layers import Conv2D,Flatten,Dense,MaxPooling2D,Dropout\n",
    "from sklearn.metrics import accuracy_score"
   ]
  },
  {
   "cell_type": "code",
   "execution_count": 3,
   "id": "7725eebc",
   "metadata": {},
   "outputs": [],
   "source": [
    "import ipywidgets as widgets\n",
    "import io\n",
    "from PIL import Image\n",
    "import tqdm\n",
    "from sklearn.model_selection import train_test_split\n",
    "import cv2\n",
    "from sklearn.utils import shuffle\n",
    "import tensorflow as tf"
   ]
  },
  {
   "cell_type": "code",
   "execution_count": 5,
   "id": "ff42fb8c",
   "metadata": {},
   "outputs": [],
   "source": [
    "X_train = []\n",
    "Y_train = []\n",
    "image_size = 150\n",
    "labels = ['glioma_tumor','meningioma_tumor','no_tumor','pituitary_tumor']\n",
    "for i in labels:\n",
    "    folderPath = os.path.join('C:/Users/CHINMAYEE/Brain Tumor Classification/Dataset/Training',i)\n",
    "    for j in os.listdir(folderPath):\n",
    "        img = cv2.imread(os.path.join(folderPath,j))\n",
    "        img = cv2.resize(img,(image_size,image_size))\n",
    "        X_train.append(img)\n",
    "        Y_train.append(i)\n",
    "        \n",
    "for i in labels:\n",
    "    folderPath = os.path.join('C:/Users/CHINMAYEE/Brain Tumor Classification/Dataset/Testing',i)\n",
    "    for j in os.listdir(folderPath):\n",
    "        img = cv2.imread(os.path.join(folderPath,j))\n",
    "        img = cv2.resize(img,(image_size,image_size))\n",
    "        X_train.append(img)\n",
    "        Y_train.append(i)\n",
    "\n",
    "X_train = np.array(X_train)\n",
    "Y_train = np.array(Y_train)"
   ]
  },
  {
   "cell_type": "code",
   "execution_count": 6,
   "id": "5d247001",
   "metadata": {},
   "outputs": [
    {
     "data": {
      "text/plain": [
       "(3264, 150, 150, 3)"
      ]
     },
     "execution_count": 6,
     "metadata": {},
     "output_type": "execute_result"
    }
   ],
   "source": [
    "X_train,Y_train = shuffle(X_train,Y_train,random_state=101)\n",
    "X_train.shape"
   ]
  },
  {
   "cell_type": "code",
   "execution_count": 8,
   "id": "2149c32f",
   "metadata": {},
   "outputs": [
    {
     "ename": "ValueError",
     "evalue": "Found input variables with inconsistent numbers of samples: [2937, 3264]",
     "output_type": "error",
     "traceback": [
      "\u001b[1;31m---------------------------------------------------------------------------\u001b[0m",
      "\u001b[1;31mValueError\u001b[0m                                Traceback (most recent call last)",
      "\u001b[1;32m<ipython-input-8-54eff36a0832>\u001b[0m in \u001b[0;36m<module>\u001b[1;34m\u001b[0m\n\u001b[1;32m----> 1\u001b[1;33m \u001b[0mX_train\u001b[0m\u001b[1;33m,\u001b[0m \u001b[0mX_test\u001b[0m\u001b[1;33m,\u001b[0m \u001b[0my_train\u001b[0m\u001b[1;33m,\u001b[0m \u001b[0my_test\u001b[0m \u001b[1;33m=\u001b[0m \u001b[0mtrain_test_split\u001b[0m\u001b[1;33m(\u001b[0m\u001b[0mX_train\u001b[0m\u001b[1;33m,\u001b[0m \u001b[0mY_train\u001b[0m\u001b[1;33m,\u001b[0m \u001b[0mtest_size\u001b[0m \u001b[1;33m=\u001b[0m \u001b[1;36m0.1\u001b[0m\u001b[1;33m,\u001b[0m \u001b[0mrandom_state\u001b[0m \u001b[1;33m=\u001b[0m \u001b[1;36m101\u001b[0m\u001b[1;33m)\u001b[0m\u001b[1;33m\u001b[0m\u001b[1;33m\u001b[0m\u001b[0m\n\u001b[0m",
      "\u001b[1;32m~\\anaconda3\\envs\\an3\\lib\\site-packages\\sklearn\\model_selection\\_split.py\u001b[0m in \u001b[0;36mtrain_test_split\u001b[1;34m(test_size, train_size, random_state, shuffle, stratify, *arrays)\u001b[0m\n\u001b[0;32m   2170\u001b[0m         \u001b[1;32mraise\u001b[0m \u001b[0mValueError\u001b[0m\u001b[1;33m(\u001b[0m\u001b[1;34m\"At least one array required as input\"\u001b[0m\u001b[1;33m)\u001b[0m\u001b[1;33m\u001b[0m\u001b[1;33m\u001b[0m\u001b[0m\n\u001b[0;32m   2171\u001b[0m \u001b[1;33m\u001b[0m\u001b[0m\n\u001b[1;32m-> 2172\u001b[1;33m     \u001b[0marrays\u001b[0m \u001b[1;33m=\u001b[0m \u001b[0mindexable\u001b[0m\u001b[1;33m(\u001b[0m\u001b[1;33m*\u001b[0m\u001b[0marrays\u001b[0m\u001b[1;33m)\u001b[0m\u001b[1;33m\u001b[0m\u001b[1;33m\u001b[0m\u001b[0m\n\u001b[0m\u001b[0;32m   2173\u001b[0m \u001b[1;33m\u001b[0m\u001b[0m\n\u001b[0;32m   2174\u001b[0m     \u001b[0mn_samples\u001b[0m \u001b[1;33m=\u001b[0m \u001b[0m_num_samples\u001b[0m\u001b[1;33m(\u001b[0m\u001b[0marrays\u001b[0m\u001b[1;33m[\u001b[0m\u001b[1;36m0\u001b[0m\u001b[1;33m]\u001b[0m\u001b[1;33m)\u001b[0m\u001b[1;33m\u001b[0m\u001b[1;33m\u001b[0m\u001b[0m\n",
      "\u001b[1;32m~\\anaconda3\\envs\\an3\\lib\\site-packages\\sklearn\\utils\\validation.py\u001b[0m in \u001b[0;36mindexable\u001b[1;34m(*iterables)\u001b[0m\n\u001b[0;32m    354\u001b[0m     \"\"\"\n\u001b[0;32m    355\u001b[0m     \u001b[0mresult\u001b[0m \u001b[1;33m=\u001b[0m \u001b[1;33m[\u001b[0m\u001b[0m_make_indexable\u001b[0m\u001b[1;33m(\u001b[0m\u001b[0mX\u001b[0m\u001b[1;33m)\u001b[0m \u001b[1;32mfor\u001b[0m \u001b[0mX\u001b[0m \u001b[1;32min\u001b[0m \u001b[0miterables\u001b[0m\u001b[1;33m]\u001b[0m\u001b[1;33m\u001b[0m\u001b[1;33m\u001b[0m\u001b[0m\n\u001b[1;32m--> 356\u001b[1;33m     \u001b[0mcheck_consistent_length\u001b[0m\u001b[1;33m(\u001b[0m\u001b[1;33m*\u001b[0m\u001b[0mresult\u001b[0m\u001b[1;33m)\u001b[0m\u001b[1;33m\u001b[0m\u001b[1;33m\u001b[0m\u001b[0m\n\u001b[0m\u001b[0;32m    357\u001b[0m     \u001b[1;32mreturn\u001b[0m \u001b[0mresult\u001b[0m\u001b[1;33m\u001b[0m\u001b[1;33m\u001b[0m\u001b[0m\n\u001b[0;32m    358\u001b[0m \u001b[1;33m\u001b[0m\u001b[0m\n",
      "\u001b[1;32m~\\anaconda3\\envs\\an3\\lib\\site-packages\\sklearn\\utils\\validation.py\u001b[0m in \u001b[0;36mcheck_consistent_length\u001b[1;34m(*arrays)\u001b[0m\n\u001b[0;32m    318\u001b[0m     \u001b[1;32mif\u001b[0m \u001b[0mlen\u001b[0m\u001b[1;33m(\u001b[0m\u001b[0muniques\u001b[0m\u001b[1;33m)\u001b[0m \u001b[1;33m>\u001b[0m \u001b[1;36m1\u001b[0m\u001b[1;33m:\u001b[0m\u001b[1;33m\u001b[0m\u001b[1;33m\u001b[0m\u001b[0m\n\u001b[0;32m    319\u001b[0m         raise ValueError(\"Found input variables with inconsistent numbers of\"\n\u001b[1;32m--> 320\u001b[1;33m                          \" samples: %r\" % [int(l) for l in lengths])\n\u001b[0m\u001b[0;32m    321\u001b[0m \u001b[1;33m\u001b[0m\u001b[0m\n\u001b[0;32m    322\u001b[0m \u001b[1;33m\u001b[0m\u001b[0m\n",
      "\u001b[1;31mValueError\u001b[0m: Found input variables with inconsistent numbers of samples: [2937, 3264]"
     ]
    }
   ],
   "source": [
    "X_train, X_test, y_train, y_test = train_test_split(X_train, Y_train, test_size = 0.1, random_state = 101)"
   ]
  },
  {
   "cell_type": "code",
   "execution_count": 9,
   "id": "19420883",
   "metadata": {},
   "outputs": [],
   "source": [
    "y_train_new = []\n",
    "for i in y_train:\n",
    "    y_train_new.append(labels.index(i))\n",
    "y_train = y_train_new\n",
    "y_train = tf.keras.utils.to_categorical(y_train)\n",
    "\n",
    "y_test_new = []\n",
    "for i in y_test:\n",
    "    y_test_new.append(labels.index(i))\n",
    "y_test = y_test_new\n",
    "y_test = tf.keras.utils.to_categorical(y_test)"
   ]
  },
  {
   "cell_type": "code",
   "execution_count": 10,
   "id": "c0b59ffb",
   "metadata": {},
   "outputs": [],
   "source": [
    "model = Sequential()\n",
    "model.add(Conv2D(32,(3,3),activation = 'relu', input_shape=(150,150,3)))\n",
    "model.add(Conv2D(64,(3,3),activation = 'relu'))\n",
    "model.add(MaxPooling2D(2,2))\n",
    "model.add(Dropout(0.3))\n",
    "model.add(Conv2D(64,(3,3),activation = 'relu'))\n",
    "model.add(Conv2D(64,(3,3),activation = 'relu'))\n",
    "model.add(Dropout(0.3))\n",
    "model.add(MaxPooling2D(2,2))\n",
    "model.add(Dropout(0.3))\n",
    "model.add(Conv2D(128,(3,3),activation = 'relu'))\n",
    "model.add(Conv2D(128,(3,3),activation = 'relu'))\n",
    "model.add(Conv2D(128,(3,3),activation = 'relu'))\n",
    "model.add(MaxPooling2D(2,2))\n",
    "model.add(Dropout(0.3))\n",
    "model.add(Conv2D(128,(3,3),activation = 'relu'))\n",
    "model.add(Conv2D(256,(3,3),activation = 'relu'))\n",
    "model.add(MaxPooling2D(2,2))\n",
    "model.add(Dropout(0.3))\n",
    "model.add(Flatten())\n",
    "model.add(Dense(512,activation = 'relu'))\n",
    "model.add(Dense(512,activation = 'relu'))\n",
    "model.add(Dropout(0.3))\n",
    "model.add(Dense(4,activation = 'softmax'))"
   ]
  },
  {
   "cell_type": "code",
   "execution_count": 11,
   "id": "0fb26d62",
   "metadata": {},
   "outputs": [
    {
     "name": "stdout",
     "output_type": "stream",
     "text": [
      "Model: \"sequential\"\n",
      "_________________________________________________________________\n",
      "Layer (type)                 Output Shape              Param #   \n",
      "=================================================================\n",
      "conv2d (Conv2D)              (None, 148, 148, 32)      896       \n",
      "_________________________________________________________________\n",
      "conv2d_1 (Conv2D)            (None, 146, 146, 64)      18496     \n",
      "_________________________________________________________________\n",
      "max_pooling2d (MaxPooling2D) (None, 73, 73, 64)        0         \n",
      "_________________________________________________________________\n",
      "dropout (Dropout)            (None, 73, 73, 64)        0         \n",
      "_________________________________________________________________\n",
      "conv2d_2 (Conv2D)            (None, 71, 71, 64)        36928     \n",
      "_________________________________________________________________\n",
      "conv2d_3 (Conv2D)            (None, 69, 69, 64)        36928     \n",
      "_________________________________________________________________\n",
      "dropout_1 (Dropout)          (None, 69, 69, 64)        0         \n",
      "_________________________________________________________________\n",
      "max_pooling2d_1 (MaxPooling2 (None, 34, 34, 64)        0         \n",
      "_________________________________________________________________\n",
      "dropout_2 (Dropout)          (None, 34, 34, 64)        0         \n",
      "_________________________________________________________________\n",
      "conv2d_4 (Conv2D)            (None, 32, 32, 128)       73856     \n",
      "_________________________________________________________________\n",
      "conv2d_5 (Conv2D)            (None, 30, 30, 128)       147584    \n",
      "_________________________________________________________________\n",
      "conv2d_6 (Conv2D)            (None, 28, 28, 128)       147584    \n",
      "_________________________________________________________________\n",
      "max_pooling2d_2 (MaxPooling2 (None, 14, 14, 128)       0         \n",
      "_________________________________________________________________\n",
      "dropout_3 (Dropout)          (None, 14, 14, 128)       0         \n",
      "_________________________________________________________________\n",
      "conv2d_7 (Conv2D)            (None, 12, 12, 128)       147584    \n",
      "_________________________________________________________________\n",
      "conv2d_8 (Conv2D)            (None, 10, 10, 256)       295168    \n",
      "_________________________________________________________________\n",
      "max_pooling2d_3 (MaxPooling2 (None, 5, 5, 256)         0         \n",
      "_________________________________________________________________\n",
      "dropout_4 (Dropout)          (None, 5, 5, 256)         0         \n",
      "_________________________________________________________________\n",
      "flatten (Flatten)            (None, 6400)              0         \n",
      "_________________________________________________________________\n",
      "dense (Dense)                (None, 512)               3277312   \n",
      "_________________________________________________________________\n",
      "dense_1 (Dense)              (None, 512)               262656    \n",
      "_________________________________________________________________\n",
      "dropout_5 (Dropout)          (None, 512)               0         \n",
      "_________________________________________________________________\n",
      "dense_2 (Dense)              (None, 4)                 2052      \n",
      "=================================================================\n",
      "Total params: 4,447,044\n",
      "Trainable params: 4,447,044\n",
      "Non-trainable params: 0\n",
      "_________________________________________________________________\n"
     ]
    }
   ],
   "source": [
    "model.summary()"
   ]
  },
  {
   "cell_type": "code",
   "execution_count": 12,
   "id": "102022f1",
   "metadata": {},
   "outputs": [],
   "source": [
    "model.compile(loss='categorical_crossentropy', optimizer='Adam',metrics=['accuracy'] )"
   ]
  },
  {
   "cell_type": "code",
   "execution_count": 13,
   "id": "cc768441",
   "metadata": {},
   "outputs": [
    {
     "name": "stdout",
     "output_type": "stream",
     "text": [
      "Epoch 1/30\n",
      "83/83 [==============================] - 240s 3s/step - loss: 2.2256 - accuracy: 0.3076 - val_loss: 1.3405 - val_accuracy: 0.4456\n",
      "Epoch 2/30\n",
      "83/83 [==============================] - 222s 3s/step - loss: 1.1162 - accuracy: 0.5112 - val_loss: 1.0256 - val_accuracy: 0.5510\n",
      "Epoch 3/30\n",
      "83/83 [==============================] - 231s 3s/step - loss: 0.9736 - accuracy: 0.5974 - val_loss: 0.9755 - val_accuracy: 0.5272\n",
      "Epoch 4/30\n",
      "83/83 [==============================] - 237s 3s/step - loss: 0.7998 - accuracy: 0.6568 - val_loss: 0.7893 - val_accuracy: 0.6599\n",
      "Epoch 5/30\n",
      "83/83 [==============================] - 231s 3s/step - loss: 0.6917 - accuracy: 0.7106 - val_loss: 0.8394 - val_accuracy: 0.6429\n",
      "Epoch 6/30\n",
      "83/83 [==============================] - 229s 3s/step - loss: 0.6281 - accuracy: 0.7450 - val_loss: 0.7544 - val_accuracy: 0.6361\n",
      "Epoch 7/30\n",
      "83/83 [==============================] - 231s 3s/step - loss: 0.5326 - accuracy: 0.7855 - val_loss: 0.5901 - val_accuracy: 0.7449\n",
      "Epoch 8/30\n",
      "83/83 [==============================] - 251s 3s/step - loss: 0.4935 - accuracy: 0.8104 - val_loss: 0.6738 - val_accuracy: 0.6973\n",
      "Epoch 9/30\n",
      "83/83 [==============================] - 253s 3s/step - loss: 0.4454 - accuracy: 0.8256 - val_loss: 0.6518 - val_accuracy: 0.7449\n",
      "Epoch 10/30\n",
      "83/83 [==============================] - 238s 3s/step - loss: 0.4034 - accuracy: 0.8483 - val_loss: 0.5175 - val_accuracy: 0.7789\n",
      "Epoch 11/30\n",
      "83/83 [==============================] - 235s 3s/step - loss: 0.3286 - accuracy: 0.8729 - val_loss: 0.4566 - val_accuracy: 0.8333\n",
      "Epoch 12/30\n",
      "83/83 [==============================] - 233s 3s/step - loss: 0.2987 - accuracy: 0.8888 - val_loss: 0.4112 - val_accuracy: 0.8571\n",
      "Epoch 13/30\n",
      "83/83 [==============================] - 236s 3s/step - loss: 0.2744 - accuracy: 0.9050 - val_loss: 0.4367 - val_accuracy: 0.8469\n",
      "Epoch 14/30\n",
      "83/83 [==============================] - 243s 3s/step - loss: 0.2158 - accuracy: 0.9187 - val_loss: 0.4068 - val_accuracy: 0.8605\n",
      "Epoch 15/30\n",
      "83/83 [==============================] - 224s 3s/step - loss: 0.1885 - accuracy: 0.9292 - val_loss: 0.4703 - val_accuracy: 0.8435\n",
      "Epoch 16/30\n",
      "83/83 [==============================] - 224s 3s/step - loss: 0.2034 - accuracy: 0.9292 - val_loss: 0.5784 - val_accuracy: 0.7483\n",
      "Epoch 17/30\n",
      "83/83 [==============================] - 225s 3s/step - loss: 0.1906 - accuracy: 0.9357 - val_loss: 0.3764 - val_accuracy: 0.8707\n",
      "Epoch 18/30\n",
      "83/83 [==============================] - 223s 3s/step - loss: 0.1429 - accuracy: 0.9432 - val_loss: 0.3591 - val_accuracy: 0.8878\n",
      "Epoch 19/30\n",
      "83/83 [==============================] - 223s 3s/step - loss: 0.1283 - accuracy: 0.9542 - val_loss: 0.3896 - val_accuracy: 0.8810\n",
      "Epoch 20/30\n",
      "83/83 [==============================] - 223s 3s/step - loss: 0.1674 - accuracy: 0.9406 - val_loss: 0.3818 - val_accuracy: 0.8639\n",
      "Epoch 21/30\n",
      "83/83 [==============================] - 226s 3s/step - loss: 0.1079 - accuracy: 0.9607 - val_loss: 0.4622 - val_accuracy: 0.8605\n",
      "Epoch 22/30\n",
      "83/83 [==============================] - 226s 3s/step - loss: 0.1512 - accuracy: 0.9459 - val_loss: 0.4564 - val_accuracy: 0.8401\n",
      "Epoch 23/30\n",
      "83/83 [==============================] - 227s 3s/step - loss: 0.0989 - accuracy: 0.9678 - val_loss: 0.4305 - val_accuracy: 0.8707\n",
      "Epoch 24/30\n",
      "83/83 [==============================] - 227s 3s/step - loss: 0.0864 - accuracy: 0.9716 - val_loss: 0.3701 - val_accuracy: 0.8980\n",
      "Epoch 25/30\n",
      "83/83 [==============================] - 227s 3s/step - loss: 0.1010 - accuracy: 0.9637 - val_loss: 0.5682 - val_accuracy: 0.8469\n",
      "Epoch 26/30\n",
      "83/83 [==============================] - 227s 3s/step - loss: 0.0891 - accuracy: 0.9724 - val_loss: 0.5022 - val_accuracy: 0.8639\n",
      "Epoch 27/30\n",
      "83/83 [==============================] - 231s 3s/step - loss: 0.0869 - accuracy: 0.9747 - val_loss: 0.4509 - val_accuracy: 0.9048\n",
      "Epoch 28/30\n",
      "83/83 [==============================] - 228s 3s/step - loss: 0.0730 - accuracy: 0.9724 - val_loss: 0.4035 - val_accuracy: 0.8605\n",
      "Epoch 29/30\n",
      "83/83 [==============================] - 225s 3s/step - loss: 0.0705 - accuracy: 0.9747 - val_loss: 0.3978 - val_accuracy: 0.8741\n",
      "Epoch 30/30\n",
      "83/83 [==============================] - 226s 3s/step - loss: 0.0864 - accuracy: 0.9720 - val_loss: 0.4271 - val_accuracy: 0.8776\n"
     ]
    }
   ],
   "source": [
    "history = model.fit(X_train, y_train, epochs=30, validation_split=0.1)"
   ]
  },
  {
   "cell_type": "code",
   "execution_count": 15,
   "id": "dd1af74e",
   "metadata": {},
   "outputs": [],
   "source": [
    "model.save('braintumor.h5')"
   ]
  },
  {
   "cell_type": "code",
   "execution_count": null,
   "id": "6fd61cc0",
   "metadata": {},
   "outputs": [],
   "source": []
  }
 ],
 "metadata": {
  "kernelspec": {
   "display_name": "Python 3",
   "language": "python",
   "name": "python3"
  },
  "language_info": {
   "codemirror_mode": {
    "name": "ipython",
    "version": 3
   },
   "file_extension": ".py",
   "mimetype": "text/x-python",
   "name": "python",
   "nbconvert_exporter": "python",
   "pygments_lexer": "ipython3",
   "version": "3.6.13"
  }
 },
 "nbformat": 4,
 "nbformat_minor": 5
}
